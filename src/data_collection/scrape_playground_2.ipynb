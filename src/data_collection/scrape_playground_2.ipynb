{
 "cells": [
  {
   "cell_type": "markdown",
   "metadata": {},
   "source": [
    "## First working version"
   ]
  },
  {
   "cell_type": "code",
   "execution_count": 1,
   "metadata": {},
   "outputs": [],
   "source": [
    "from dataclasses import dataclass, field\n",
    "from enum import Enum\n",
    "import json"
   ]
  },
  {
   "cell_type": "code",
   "execution_count": 2,
   "metadata": {},
   "outputs": [],
   "source": [
    "import aiohttp\n",
    "import asyncio\n",
    "\n",
    "from aiohttp import ClientSession\n",
    "\n",
    "import nest_asyncio\n",
    "nest_asyncio.apply()\n"
   ]
  },
  {
   "cell_type": "code",
   "execution_count": 3,
   "metadata": {},
   "outputs": [],
   "source": [
    "class ArticleType(Enum):\n",
    "    REGULAR = None\n",
    "    WIKIPEDIA = 'Wikipedia'\n",
    "    TEMPLATE = 'Sjabloon'\n",
    "    CATEGORY = 'Categorie'\n",
    "    PORTAL = 'Portaal'\n",
    "    TALK = 'Overleg sjabloon'"
   ]
  },
  {
   "cell_type": "code",
   "execution_count": 4,
   "metadata": {},
   "outputs": [],
   "source": [
    "@dataclass\n",
    "class Article:\n",
    "    title: str\n",
    "    exists: bool\n",
    "    links: list | None = None\n",
    "    type: ArticleType = field(init=False)\n",
    "    num_links: int | None = field(init=False)\n",
    "\n",
    "    def __post_init__(self):\n",
    "        if self.exists:\n",
    "            self.type = next((type for type in ArticleType if type.value and type.value in self.title), ArticleType.REGULAR)\n",
    "            self.num_links = len(self.links) if self.links else None\n",
    "\n",
    "    def __repr__(self) -> str:\n",
    "        if self.exists:\n",
    "            return f\"Article(title='{self.title}', exists={self.exists}, type={self.type}, num_links={self.num_links})\"\n",
    "        else:\n",
    "            return f\"Article(title='{self.title}', exists={self.exists})\"\n",
    "\n",
    "    def __str__(self) -> str:\n",
    "        return f'Article: {self.title}'\n",
    "\n",
    "    def get_url_title(self) -> str:\n",
    "        return self.title.replace(' ', '_')\n",
    "\n",
    "    def to_json(self) -> str:\n",
    "        return json.dumps({\n",
    "            'title': self.title,\n",
    "            'exists': self.exists,\n",
    "            'type': self.type.name,\n",
    "            'num_links': self.num_links,\n",
    "            'links': self.links\n",
    "        })"
   ]
  },
  {
   "cell_type": "code",
   "execution_count": 5,
   "metadata": {},
   "outputs": [],
   "source": [
    "async def get_links(session: ClientSession,\n",
    "                    article_title: str,\n",
    "                    url: str,\n",
    "                    ) -> Article:\n",
    "\n",
    "    params = {\n",
    "        \"action\": \"query\",\n",
    "        \"format\": \"json\",\n",
    "        \"titles\": article_title,\n",
    "        \"prop\": \"links\",\n",
    "        \"pllimit\": \"max\"\n",
    "    }\n",
    "\n",
    "    async def _run_one_query(url: str, params: dict) -> tuple[list, dict]:\n",
    "        async with session.get(url=url, params=params) as response:\n",
    "            data = await response.json()\n",
    "            pages = data[\"query\"][\"pages\"]\n",
    "\n",
    "            if '-1' in pages: # If the article could not be found\n",
    "                return None, data\n",
    "\n",
    "            linked_pages = []\n",
    "            for _, val in pages.items():\n",
    "                for link in val[\"links\"]:\n",
    "                    linked_pages.append(link[\"title\"])\n",
    "\n",
    "            return linked_pages, data\n",
    "\n",
    "    linked_pages, data = await _run_one_query(url, params)\n",
    "\n",
    "    if linked_pages is None:\n",
    "        return Article(article_title, exists=False)\n",
    "\n",
    "    while \"continue\" in data: # If there are more than 500 links\n",
    "        plcontinue = data[\"continue\"][\"plcontinue\"]\n",
    "        params[\"plcontinue\"] = plcontinue\n",
    "\n",
    "        additional_linked_pages, data = await _run_one_query(url, params)\n",
    "        linked_pages.extend(additional_linked_pages)\n",
    "\n",
    "    return Article(article_title, exists=True, links=linked_pages)"
   ]
  },
  {
   "cell_type": "code",
   "execution_count": 6,
   "metadata": {},
   "outputs": [],
   "source": [
    "language_code = 'nl'\n",
    "url = f\"https://{language_code}.wikipedia.org/w/api.php\"\n",
    "\n",
    "article_titles = ['Amsterdam', \"asdfl;kajsdf;lkj\"]"
   ]
  },
  {
   "cell_type": "code",
   "execution_count": 7,
   "metadata": {},
   "outputs": [],
   "source": [
    "async def fetch_batch(article_titles: list[str]) -> list[Article]:\n",
    "    async with aiohttp.ClientSession() as session:\n",
    "        tasks = [get_links(session, article_title,url) for article_title in article_titles]\n",
    "        return await asyncio.gather(*tasks)"
   ]
  },
  {
   "cell_type": "code",
   "execution_count": 8,
   "metadata": {},
   "outputs": [
    {
     "name": "stdout",
     "output_type": "stream",
     "text": [
      "Article: Amsterdam\n",
      "Article: asdfl;kajsdf;lkj\n"
     ]
    }
   ],
   "source": [
    "results = asyncio.run(fetch_batch(article_titles))\n",
    "for result in results:\n",
    "    print(result)"
   ]
  },
  {
   "cell_type": "code",
   "execution_count": 9,
   "metadata": {},
   "outputs": [
    {
     "data": {
      "text/plain": [
       "[Article(title='Amsterdam', exists=True, type=ArticleType.REGULAR, num_links=1122),\n",
       " Article(title='asdfl;kajsdf;lkj', exists=False)]"
      ]
     },
     "execution_count": 9,
     "metadata": {},
     "output_type": "execute_result"
    }
   ],
   "source": [
    "results"
   ]
  },
  {
   "cell_type": "code",
   "execution_count": 10,
   "metadata": {},
   "outputs": [],
   "source": [
    "ams = results[0]"
   ]
  },
  {
   "cell_type": "code",
   "execution_count": 11,
   "metadata": {},
   "outputs": [
    {
     "data": {
      "text/plain": [
       "__main__.Article"
      ]
     },
     "execution_count": 11,
     "metadata": {},
     "output_type": "execute_result"
    }
   ],
   "source": [
    "type(ams)"
   ]
  },
  {
   "cell_type": "code",
   "execution_count": 12,
   "metadata": {},
   "outputs": [
    {
     "name": "stdout",
     "output_type": "stream",
     "text": [
      "1122\n"
     ]
    }
   ],
   "source": [
    "print(ams.num_links)"
   ]
  },
  {
   "cell_type": "code",
   "execution_count": 13,
   "metadata": {},
   "outputs": [
    {
     "data": {
      "text/plain": [
       "Article(title='Amsterdam', exists=True, type=ArticleType.REGULAR, num_links=1122)"
      ]
     },
     "execution_count": 13,
     "metadata": {},
     "output_type": "execute_result"
    }
   ],
   "source": [
    "ams"
   ]
  },
  {
   "cell_type": "code",
   "execution_count": 14,
   "metadata": {},
   "outputs": [
    {
     "data": {
      "text/plain": [
       "'{\"title\": \"Amsterdam\", \"exists\": true, \"type\": \"REGULAR\", \"num_links\": 1122, \"links\": [\"&samhoud places\", \"\\'s-Hertogenbosch\", \"\\'s-Hertogenbosch (hoofdbetekenis)\", \"\\'t Nopeind\", \"17e eeuw\", \"1808\", \"18e eeuw\", \"1920-1929\", \"1930-1939\", \"1946\", \"1950-1959\", \"1960-1969\", \"1970-1979\", \"1980-1989\", \"1990-1999\", \"20 april\", \"A\\'DAM Toren\", \"AFAS Live\", \"AFC Ajax\", \"AT5\", \"Aalsmeer\", \"Abberdaan (bedrijventerrein)\", \"Abcoude\", \"Academisch Centrum Tandheelkunde Amsterdam\", \"Academisch Medisch Centrum\", \"Accijns\", \"Admiralenbuurt\", \"Advocatenkantoor\", \"Afghanistan\", \"Afsluitdijk\", \"Agglomeratie\", \"Agnietenkapel (Amsterdam)\", \"Air France-KLM\", \"Albert Cuypmarkt\", \"Algemeen Handelsblad\", \"Algemeen Uitbreidingsplan\", \"Algemeen bijzonder onderwijs\", \"Alkmaar (hoofdbetekenis)\", \"Almere\", \"Almere (hoofdbetekenis)\", \"Alteratie (Amsterdam)\", \"Amerigo Vespucci (schip, 1931)\", \"Amersfoort (hoofdbetekenis)\", \"Amstel (rivier)\", \"Amstel (straat)\", \"Amstel III\", \"Amsteldorp (Amsterdam)\", \"Amstelkwartier\", \"Amstelland-Meerlanden\", \"Amstelveen\", \"Amsterdam-Centrum\", \"Amsterdam-Noord\", \"Amsterdam-Oost\", \"Amsterdam-Zuid\", \"Amsterdam-Zuidoost\", \"AmsterdamFM\", \"Amsterdam (doorverwijspagina)\", \"Amsterdam (gemeente)\", \"Amsterdam (hoofdbetekenis)\", \"Amsterdam Admirals\", \"Amsterdam Crusaders\", \"Amsterdam Dance Event\", \"Amsterdam G\\'s\", \"Amsterdam Internet Exchange\", \"Amsterdam Light Festival\", \"Amsterdam Museum\", \"Amsterdam Nieuw-West\", \"Amsterdam Panthers\", \"Amsterdam Pirates\", \"Amsterdam Science Park\", \"Amsterdam als homohoofdstad\", \"Amsterdam van A tot Z\", \"Amsterdams (dialect)\", \"Amsterdams busnet\", \"Amsterdamsche Hockey & Bandy Club\", \"Amsterdamse Bos\", \"Amsterdamse Hogeschool voor de Kunsten\", \"Amsterdamse School (bouwstijl)\", \"Amsterdamse effectenbeurs\", \"Amsterdamse grachten\", \"Amsterdamse haven\", \"Amsterdamse metro\", \"Amsterdamse stadsroutes\", \"Amsterdamse tram\", \"Amsterdamse veren\", \"Anarchisme\", \"Andorra la Vella\", \"Andreas Ensemble\", \"Andreaskruis\", \"Andreaspenning\", \"Andr\\\\u00e9 van Duin\", \"Ankeveen\", \"Anne Frank\", \"Anne Frank Huis\", \"Antiquaar\", \"Antwerpen (stad)\", \"Apeldoorn (stad)\", \"Apollobuurt\", \"Architectuur\", \"ArenAPoort\", \"Argentini\\\\u00eb\", \"Arnhem\", \"Arnold Jan d\\'Ailly\", \"Artis\", \"Aruba\", \"Assen\", \"Athene (stad)\", \"Australi\\\\u00eb (land)\", \"Autosnelweg\", \"BC Apollo\", \"BZK\", \"Bad Nieuweschans\", \"Badhoevedorp\", \"Bajeskwartier\", \"Bank (financi\\\\u00eble instelling)\", \"Banne Buiksloot\", \"Barcelona (Spanje)\", \"Barlaeus Gymnasium\", \"Baruch Spinoza\", \"Basiliek van de Heilige Nicolaas (Amsterdam)\", \"Beatrix der Nederlanden\", \"Bedevaart\", \"Bedrijventerrein Sloterdijk\", \"Beemster\", \"Begijnhof\", \"Begijnhof (Amsterdam)\", \"Belgi\\\\u00eb (hoofdbetekenis)\", \"Belgrado\", \"Bellamybuurt\", \"Berlijn (hoofdbetekenis)\", \"Bern (stad)\", \"Beschermd stadsgezicht\", \"Beschermheilige\", \"Betondorp\", \"Beurs van Berlage\", \"Beverwijk\", \"Bevolking\", \"Bier\", \"Bierfiets\", \"Bijlmermeer (Amsterdam)\", \"Bijlmermeer (wijk)\", \"Bijlmerramp\", \"Binnenstad\", \"Binnenstad (Amsterdam)\", \"Bioscoop\", \"Bioscoopjournaal\", \"Bisdom Haarlem-Amsterdam\", \"Bisschop\", \"Bitterzoet (club)\", \"Blaricum\", \"Bloemenbuurt (Amsterdam)\", \"Bloemendaal (Noord-Holland)\", \"Bloemenmarkt\", \"Boedapest\", \"Boeddhisme\", \"Boeddhisme in Nederland\", \"Boekarest\", \"Bombardementen op Amsterdam-Noord\", \"Bonaire\", \"Boom Chicago\", \"Borgerbuurt\", \"Borneo (Amsterdam)\", \"Bos en Lommer\", \"Boschplan\", \"Boston (hoofdbetekenis)\", \"Brand in Hotel Polen\", \"Brasserie Keyzer\", \"Bratislava\", \"Brazili\\\\u00eb\", \"Brexit\", \"Broek in Waterland\", \"Brouwerij\", \"Bruggen van Amsterdam\", \"Brussel (stad)\", \"Buiksloot\", \"Buiksloterham\", \"Buikslotermeer\", \"Buitenveldert (tuinstad)\", \"Bulgarije\", \"Bullewijk (Amsterdam)\", \"Buurten en wijken in Amsterdam\", \"Buurtschap\", \"Cabaret (kleinkunst)\", \"Caf\\\\u00e9\", \"Caf\\\\u00e9 Am\\\\u00e9ricain\", \"Caf\\\\u00e9 Chris\", \"Caf\\\\u00e9 Hoppe\", \"Canada\", \"Caribisch Nederland\", \"Cartier (juweliershuis)\", \"Casablanca (stad)\", \"Categoriaal\", \"Ca\\\\u00efro (stad)\", \"Centraal Bureau voor de Statistiek\", \"Centrum Amsterdam Noord\", \"Centrumeiland\", \"Chanel\", \"Chass\\\\u00e9buurt\", \"Chinatown (Amsterdam)\", \"Chinees Keizerrijk\", \"Chisinau\", \"Christendom\", \"Ciel Bleu\", \"Circuit party\", \"City Theater (Amsterdam)\", \"Cityvorming in Amsterdam\", \"Claus van Amsberg\", \"ClubNL\", \"Cocktail\", \"Coffeeshop\", \"Colombia (hoofdbetekenis)\", \"Communicatie\", \"Compagnietheater\", \"Concert (uitvoering)\", \"Concertzaal\", \"Coos Huijsen\", \"Cornelis van Eesteren\", \"Creatieve klasse\", \"Cremerbuurt (Amsterdam)\", \"Crisis van de jaren 30\", \"Cruiseschip\", \"Cruquius (Amsterdam)\", \"Cura\\\\u00e7ao\", \"Cura\\\\u00e7ao (hoofdbetekenis)\", \"Cygnus Gymnasium\", \"Czaar Peterbuurt\", \"Da Costabuurt\", \"Dam (Amsterdam)\", \"Dam (waterkering)\", \"Dam tot Damloop\", \"Damrak\", \"Dapperbuurt\", \"Dappermarkt\", \"DeLaMar\", \"De 9 Straatjes\", \"De Aker\", \"De Baarsjes (wijk)\", \"De Balie\", \"De Bijenkorf (warenhuis)\", \"De Boelelaan\", \"De Bongerd (Amsterdam)\", \"De Dokter\", \"De Drie Fleschjes\", \"De Druif\", \"De Eendracht (Amsterdam)\", \"De Groene Amsterdammer\", \"De Hallen (Amsterdam)\", \"De Heining (bedrijventerrein)\", \"De Jaren\", \"De Kleine Komedie\", \"De Krommert\", \"De Nationale Opera\", \"De Pijp\", \"De Ronde Venen\", \"De Ruijterkade\", \"De Slegte\", \"De Telegraaf\", \"De Volkskrant\", \"De Wallen\", \"Delft (hoofdbetekenis)\", \"Den Haag\", \"Den Helder\", \"Desmet Studio\\'s Amsterdam\", \"Deventer\", \"Diamantbuurt (Amsterdam)\", \"Diemen\", \"Diemerzeedijk\", \"Dijk (waterkering)\", \"Disteldorp\", \"Dominicaanse Republiek\", \"Dorp (hoofdbetekenis)\", \"Douglas (Man)\", \"Drachten\", \"Drenthe\", \"Drie Gezusters (bedrijf)\", \"Driemond\", \"Droogmakerij\", \"Drs. P\", \"Druktechniek\", \"Dubbele Buurt (Amsterdam)\", \"Dublin (hoofdbetekenis)\", \"Duitse Rijk\", \"Duitsers\", \"Duitsland (hoofdbetekenis)\", \"Duivelseiland (Amsterdam)\", \"Duivendrecht\", \"Durgerdam\", \"Dutch Heritage Amsterdam\", \"EYE Filmmuseum\", \"EasyJet\", \"Ed van Thijn\", \"Edam-Volendam\", \"Effectenbeurs\", \"Efteling\", \"Egypte (land)\", \"Eindhoven\", \"Elzenhagen\", \"Endemol\", \"Erasmusparkbuurt\", \"Eredivisie (mannenvoetbal)\", \"Ereteken van Verdienste van de stad Amsterdam\", \"Escape (club)\", \"Ethiopi\\\\u00eb\", \"Euro\", \"EuroPride\", \"Eurolines\", \"Euronext\", \"Europa (werelddeel)\", \"Europees kampioenschap voetbal 2000\", \"Europees kampioenschap voetbal 2020\", \"Europese weg 19\", \"Europese weg 22\", \"Europese weg 231\", \"Europese weg 35\", \"Eurostar\", \"Expats\", \"Federale Republiek Joegoslavi\\\\u00eb\", \"Femke Halsema\", \"Ferdinand Domela Nieuwenhuis\", \"Fiets\", \"Fietsflat (Amsterdam)\", \"Fietstaxi\", \"Filipijnen\", \"Filmhallen\", \"Filmtheater de Uitkijk\", \"Flevoland\", \"FlixBus\", \"Floor Wibaut\", \"Floradorp\", \"Floris V van Holland\", \"Fons van Westerloo\", \"Fortificatie\", \"Frank de Boer\", \"Frankfurt am Main\", \"Frankrijk (hoofdbetekenis)\", \"Frans Banninck Cocq\", \"Frans Banninck Cocqpenning\", \"Fransen\", \"Frederik Hendrikbuurt\", \"Friesland\", \"FunX\", \"Funenpark\", \"GVB (Amsterdam)\", \"Gaasperdam (woonwijk)\", \"Gastarbeider\", \"Gay Games 1998\", \"Gein (Amsterdam)\", \"Gelderland\", \"Geleen\", \"Gemeente Amsterdam\", \"Gemeentetram Amsterdam\", \"Gemeenteveren Amsterdam\", \"Gentrificatie\", \"Geografische co\\\\u00f6rdinaten\", \"Gereformeerde Kerken in Nederland\", \"Gerrit Rietveld Academie\", \"Gerrit van der Veen\", \"Geschiedenis van Amsterdam\", \"Geschiedenis van de spoorwegen in Nederland\", \"Geuzenveld\", \"Gezag\", \"Ghana\", \"Gibraltar (hoofdbetekenis)\", \"Gibraltarbuurt\", \"Gijs van Hall\", \"Gizeh (stad)\", \"Godsdienstvrijheid\", \"Gooi en Vechtstreek\", \"Gooise Meren\", \"Gouden Eeuw (Nederland)\", \"Grachtenfestival\", \"Grachtengordel\", \"Grachtengordel (Amsterdam)\", \"Griekenland\", \"GroenLinks\", \"Groningen (provincie)\", \"Groningen (stad)\", \"Groot-Amsterdam\", \"Grote Depressie\", \"Gucci\", \"Gulden Winckelbuurt\", \"Gwijde van Avesnes\", \"Gymnasium\", \"H.P. Berlage\", \"HOI, Instituut voor Media Auditing\", \"Haarlem\", \"Haarlem (hoofdbetekenis)\", \"Haarlemmerbuurt (Amsterdam)\", \"Haarlemmerliede en Spaarnwoude\", \"Haarlemmermeer\", \"Halfweg (Haarlemmermeer)\", \"Hallenkwartier\", \"Halte Amsterdam ArenA\", \"Hamburg (hoofdbetekenis)\", \"Handel (economie)\", \"Hanoi\", \"Haven-Stad\", \"Haven van Amsterdam\", \"Haven van Rotterdam\", \"Haveneiland\", \"Havenstraatterrein\", \"Head of the River Amstel\", \"Hectare\", \"Heemskerk\", \"Heemstede (Noord-Holland)\", \"Heerenveen (plaats)\", \"Heilige Stoel\", \"Helmersbuurt\", \"Helsinki\", \"Hengelo (Overijssel)\", \"Herman van Veen\", \"Hertogdom Brabant\", \"Het 4e Gymnasium\", \"Het Achterhuis (dagboek)\", \"Het Gooi\", \"Het Lieverdje\", \"Het Nationale Ballet\", \"Het Parool\", \"Het Scheepvaartmuseum\", \"Het Schouw\", \"Hilversum\", \"Hilversumse Meent\", \"Hinderdam\", \"Hindoe\\\\u00efsme\", \"Hindoe\\\\u00efsme in Nederland\", \"Hippie\", \"Hipster (moderne subcultuur)\", \"Hoger beroepsonderwijs\", \"Hogeschool\", \"Hogeschool Inholland\", \"Hogeschool van Amsterdam\", \"Hogesnelheidstrein\", \"Holendrecht (Amsterdam)\", \"Holland\", \"Holland Festival\", \"Holysloot\", \"Homo-emancipatie\", \"Homohoreca\", \"Hongarije\", \"Hongerwinter\", \"Hongkong (hoofdbetekenis)\", \"Hoofddorppleinbuurt\", \"Hoofdstad\", \"Hoofdstad van Nederland\", \"Hoogbouw\", \"Hoogvliet (stadsdeel)\", \"Hoorn (Noord-Holland)\", \"Horeca\", \"Horn (Amsterdam)\", \"Hortus Botanicus Amsterdam\", \"Hotel\", \"Hout (hoofdbetekenis)\", \"Houthavens (Amsterdam)\", \"Hub (luchthaven)\", \"Hugenoten\", \"Huizen\", \"IDTV (mediabedrijf)\", \"IJ-oevers\", \"IJDock\", \"IJ (rivier)\", \"IJ (water)\", \"IJburg\", \"IJmeer\", \"IJmond\", \"IJmuiden\", \"IJplein\", \"IT-sector (Nederland)\", \"IT (club)\", \"Ida Peerdeman\", \"Ierland (land)\", \"Immigratie\", \"India\", \"Indische Buurt (Amsterdam)\", \"Indonesi\\\\u00eb\", \"Industrie\", \"Industri\\\\u00eble revolutie\", \"Intelligentsia\", \"Intercity\", \"Intercity-Express\", \"International Documentary Film Festival Amsterdam\", \"Internet\", \"Intocht van Sinterklaas in Amsterdam\", \"Inwonersnaam\", \"Irak\", \"Iran\", \"Islam\", \"Islam in Nederland\", \"Islamitisch onderwijs in Nederland\", \"Isra\\\\u00ebl (hoofdbetekenis)\", \"Istanboel (hoofdbetekenis)\", \"Itali\\\\u00eb (hoofdbetekenis)\", \"Ivo Samkalden\", \"Jan Kalff (stedenbouwkundige)\", \"Jan Maijenbuurt\", \"Jan Persijn\", \"Jan Schaefer\", \"Japan\", \"Java-eiland\", \"Jeroen Krabb\\\\u00e9\", \"Jeruzalem (Amsterdam)\", \"Jeugdland (Amsterdam)\", \"Jiddisch\", \"Jimmy Woo\", \"Joden\", \"Jodenbreestraat (Amsterdam)\", \"Jodenbuurt (Amsterdam)\", \"Jodendom\", \"Joegoslavi\\\\u00eb\", \"Johan Cruijff ArenA\", \"Joods Historisch Museum\", \"Jordaan (Amsterdam)\", \"Jordaanoproer\", \"Jos Brink\", \"Joure\", \"Julianapark (Amsterdam)\", \"KNSM-eiland\", \"Kadijken (Amsterdam)\", \"Kadoelen (Amsterdam)\", \"Kalverstraat\", \"Karpershoek\", \"Katholieke Kerk in Nederland\", \"Katholieke school\", \"Kattenburg (Amsterdam)\", \"Keizerskroon (hoofddeksel)\", \"Kerkstraat (Amsterdam)\", \"Kiev\", \"Kinkerbuurt\", \"Knooppunt Coenplein\", \"Knooppunt De Hoek\", \"Knooppunt Raasdorp\", \"Koffie (drank)\", \"Kolenkitbuurt\", \"Koningsdag (Nederland)\", \"Koninklijk Concertgebouw\", \"Koninklijk Concertgebouworkest\", \"Koninklijk Theater Carr\\\\u00e9\", \"Koninklijke Luchtvaart Maatschappij\", \"Koninkrijk der Nederlanden\", \"Kop van Jut (Amsterdam)\", \"Kopenhagen (hoofdbetekenis)\", \"Kralendijk\", \"Kroningsoproer\", \"Laan van Spartaan\", \"Land (geografie)\", \"Landelijk Noord\", \"Landlust\", \"Landsmeer\", \"Landstrekenbuurt\", \"Larache\", \"Laren (Noord-Holland)\", \"Lastage\", \"Leerfetisjisme\", \"Leeuwarden (stad)\", \"Leiden (hoofdbetekenis)\", \"Leidsebuurt (Amsterdam)\", \"Leidseplein (Amsterdam)\", \"Leidsestraat (Amsterdam)\", \"Lelystad\", \"Lgbtiq\", \"Liberalisme\", \"Librije\\'s Zusje (Amsterdam)\", \"Liesbeth List\", \"Lijnden (Haarlemmermeer)\", \"Lijst van Amsterdammers\", \"Lijst van Amsterdamse stadsdichters\", \"Lijst van beelden in Amsterdam-Centrum\", \"Lijst van beelden in Amsterdam-Noord\", \"Lijst van beelden in Amsterdam-Oost\", \"Lijst van beelden in Amsterdam-West\", \"Lijst van beelden in Amsterdam-Zuid\", \"Lijst van beelden in Amsterdam-Zuidoost\", \"Lijst van beelden in Amsterdam Nieuw-West\", \"Lijst van beelden in Westpoort (Amsterdam)\", \"Lijst van bezienswaardigheden in Amsterdam\", \"Lijst van burgemeesters van Amsterdam\", \"Lijst van kerken in Amsterdam\", \"Lijst van monumenten in Amsterdam\", \"Lijst van musea in Amsterdam\", \"Lijst van restaurants met Michelinster in de regio Amsterdam\", \"Lijsten van Amsterdamse onderwerpen\", \"Limburg (Nederlandse provincie)\", \"Links (politiek)\", \"Lissabon\", \"Ljubljana\", \"Lodewijk Napoleon Bonaparte\", \"Londen\", \"Londen (hoofdbetekenis)\", \"Longyearbyen\", \"Louis Vuitton (merk)\", \"Luchthaven Schiphol\", \"Ludiek\", \"Ludolf Bakhuizen\", \"Lutheranisme\", \"Lutkemeer\", \"Luxemburg (stad)\", \"Luzac College\", \"MVS Gaystation\", \"Maastricht\", \"Madrid (stad)\", \"Magna Plaza\", \"Marathon van Amsterdam\", \"Marathonbuurt\", \"Mariehamn\", \"Marineterrein (Amsterdam)\", \"Marinier\", \"Marken (Amsterdam)\", \"Marktkwartier\", \"Marokko (hoofdbetekenis)\", \"Matthijs van Nieuwkerk\", \"Medaille van de Stad Amsterdam\", \"Medisch Centrum Slotervaart\", \"Megabus.com\", \"Meinfernbus\", \"Melkweg (Amsterdam)\", \"Mellow Yellow (coffeeshop)\", \"Menasseh Ben Israel\", \"Mercatorbuurt\", \"Metrolijn 50\", \"Metrolijn 51\", \"Metrolijn 52\", \"Metrolijn 53\", \"Metrolijn 54\", \"Metropoolregio Amsterdam\", \"Middelburg (Zeeland)\", \"Middelveldsche Akerpolder\", \"Middenmeer (Hollands Kroon)\", \"Minsk\", \"Mirakel van Amsterdam\", \"Mobiele Eenheid\", \"Mokum\", \"Molenwijk (Amsterdam)\", \"Monaco-Ville\", \"Monne de Miranda\", \"Moskou (hoofdbetekenis)\", \"Motregen\", \"Muiden\", \"Mulligans Irish Music Bar\", \"Mumbai\", \"Munttoren (Amsterdam)\", \"Museum\", \"Museumkwartier (Amsterdam)\", \"Museumplein (Amsterdam)\", \"Muziekfestival\", \"Muziekgebouw aan \\'t IJ\", \"NEMO Science Museum\", \"NFL Europe\", \"NRC Handelsblad\", \"Naarden\", \"Nachtburgemeester van Amsterdam\", \"Napels (stad)\", \"Napoleon Bonaparte\", \"Nationaal Monument op de Dam\", \"Nationale Dodenherdenking\", \"Nationale Opera en Ballet\", \"Nederland\", \"Nederland (hoofdbetekenis)\", \"Nederlands kampioenschap voetbal\", \"Nederlands verzet in de Tweede Wereldoorlog\", \"Nederlandse Antillen\", \"Nederlandse Grondwet\", \"Nederlandse Hervormde Kerk\", \"Nederlandse gemeente\", \"Nederlandse regering\", \"Nederlandse schilderkunst in de Gouden Eeuw\", \"Neerslag (atmosfeer)\", \"Nellestein (Amsterdam)\", \"Netnummer\", \"New York (stad)\", \"Nicolaas van Myra\", \"Nicosia (Cyprus)\", \"Nieuw Sloten\", \"Nieuwe Kerk (Amsterdam)\", \"Nieuwe Pijp\", \"Nieuwe Steentijd\", \"Nieuwendam\", \"Nieuwendammerdijk en Buiksloterdijk\", \"Nieuwendammerham\", \"Nieuwendijk (Amsterdam)\", \"Nieuwezijde\", \"Nieuwezijds Voorburgwal\", \"Nieuwmarkt (Amsterdam)\", \"Nieuwmarktbuurt\", \"Nieuwmarktrellen\", \"Nigeria (hoofdbetekenis)\", \"Nigtevecht\", \"Noord-Brabant\", \"Noord-Holland\", \"Noord (metrostation)\", \"Noorderhof\", \"Noordermarkt\", \"Noordhollandsch Kanaal\", \"Noordoever Sloterplas (buurt)\", \"Noordse Bos\", \"Noordzee\", \"Noordzeekanaal\", \"OUIBUS\", \"Oecumene\", \"Olympisch Kwartier\", \"Olympisch Stadion (Amsterdam)\", \"Olympische Spelen\", \"Olympische Zomerspelen 1928\", \"Omval (Amsterdam)\", \"Ookmeer\", \"Oost-Watergraafsmeer\", \"Oostelijk Havengebied\", \"Oostelijke Eilanden\", \"Oostelijke Handelskade\", \"Oostenburg\", \"Oostenrijk\", \"Oosterdokseiland\", \"Oosterpark (Amsterdam)\", \"Oosterparkbuurt (Amsterdam)\", \"Oostlijn\", \"Oostoever Sloterplas\", \"Oostpoort (Amsterdam)\", \"Oostzaan\", \"Oostzanerwerf\", \"Oostzeehandel\", \"Openbaar onderwijs\", \"Openbaar vervoer\", \"Oppervlakte\", \"Oranjestad (Aruba)\", \"Oranjestad (Sint Eustatius)\", \"Osdorp (tuinstad)\", \"Oslo\", \"Oslo (hoofdbetekenis)\", \"Oud-Oost (Amsterdam)\", \"Oud-West\", \"Oud-Zuid (Amsterdam)\", \"Oud Osdorp\", \"Oude Kerk (Amsterdam)\", \"Oude Pijp\", \"Ouder-Amstel\", \"Ouderkerk aan de Amstel\", \"Oudezijde\", \"Over het IJ Festival\", \"Overamstel (Amsterdam)\", \"Overhoeks (Amsterdam)\", \"Overijssel\", \"Overtoombuurt\", \"Overtoomse Buurt\", \"Overtoomse Veld\", \"P.C. Hooftstraat\", \"Pakhuis\", \"Pakistan\", \"Paleis op de Dam\", \"Panama (club)\", \"Paradiso (Amsterdam)\", \"Parijs (hoofdbetekenis)\", \"Park Haagseweg\", \"Park de Meer\", \"Partij van de Arbeid (Nederland)\", \"Partnerstad\", \"Passenger Terminal Amsterdam\", \"Path\\\\u00e9 de Munt\", \"Peking\", \"Pernis\", \"Persijn (geslacht)\", \"Philipsburg\", \"Pinok\\\\u00e9\", \"Plan West\", \"Plan Zuid\", \"Plan van Gool\", \"Planciusbuurt\", \"Plantage (Amsterdam)\", \"Plusregio\", \"Podgorica\", \"Polder (hoofdbetekenis)\", \"Polen (hoofdbetekenis)\", \"Portugal\", \"Portugees-Isra\\\\u00eblietische Synagoge\", \"Postcode\", \"Postjesbuurt\", \"Praag\", \"Pride Amsterdam\", \"Prinsengracht\", \"Prinsengrachtconcert\", \"Prinses Irenebuurt\", \"Pristina\", \"Prostitutie\", \"Prostitutiegebied\", \"Protestantisme\", \"Protestants onderwijs\", \"Protestantse Kerk in Nederland\", \"Provinciale weg 235\", \"Provinciale weg 236\", \"Provinciale weg 247\", \"Provincies van Nederland\", \"Provo\", \"Purmerend\", \"Purmerend (gemeente)\", \"Qmusic (Nederland)\", \"RTV Noord-Holland\", \"Raamprostitutie\", \"Randstad (gebied)\", \"Ransdorp\", \"Rapenburg (Amsterdam)\", \"Rapido (party)\", \"Regeringszetel\", \"Reguliersdwarsstraat\", \"Reigersbos (Amsterdam)\", \"Religie\", \"Religieus onderwijs\", \"Rellen en opstanden in Amsterdam\", \"Rembrandthuis\", \"Rembrandtplein (Amsterdam)\", \"Republiek Amsterdam\", \"Restaurant\", \"Reykjavik\", \"Reynders (caf\\\\u00e9)\", \"Rialto (filmtheater)\", \"Riekerpolder\", \"Rieteilanden\", \"Rietlanden (Amsterdam)\", \"Rietlandpark\", \"Riga\", \"Rijksbeschermd gezicht Amsterdam - Binnen de Singelgracht\", \"Rijksbeschermd gezicht Amsterdam - Nieuwmarktbuurt\", \"Rijksmuseum Amsterdam\", \"Rijksweg 1\", \"Rijksweg 10\", \"Rijksweg 13\", \"Rijksweg 15\", \"Rijksweg 2\", \"Rijksweg 200\", \"Rijksweg 3\", \"Rijksweg 4\", \"Rijksweg 5\", \"Rijksweg 7\", \"Rijksweg 8\", \"Rijksweg 9\", \"Rivierenbuurt (Amsterdam)\", \"Robert Scottbuurt\", \"Roemeni\\\\u00eb\", \"Roeterseiland\", \"Rokin (straat)\", \"Rollende Keukens\", \"Rome (stad)\", \"Ronde van Frankrijk 1954\", \"Ronde van Itali\\\\u00eb 2010\", \"Rondvaartboot\", \"Rookbom\", \"Rooms-Katholieke Kerk\", \"Rotterdam (hoofdbetekenis)\", \"Ruigoord\", \"Rusland (hoofdbetekenis)\", \"S100 (Stad aub meegeven als parameter 3)\", \"S118 (Stad aub meegeven als parameter 3)\", \"SALTO Omroep Amsterdam\", \"Saarein\", \"Saba\", \"Sacha de Boer\", \"Sail Amsterdam\", \"Saint Helier\", \"Saint Peter Port\", \"San Francisco (hoofdbetekenis)\", \"San Marino (stad)\", \"Sarajevo\", \"Scandinavi\\\\u00eb\", \"Scheepsbouw\", \"Schellingwoude\", \"Schiedam\", \"Schiller (caf\\\\u00e9)\", \"Schinkel (bedrijventerrein)\", \"Schinkelbuurt\", \"Schuilkerk\", \"Sefardische Joden\", \"Seoel\", \"Shenzhen\", \"Siberi\\\\u00eb\", \"Singel (Amsterdam)\", \"Singelgracht (Amsterdam)\", \"Sint Eustatius\", \"Sint Ignatiusgymnasium\", \"Sint Maarten (land)\", \"Skopje\", \"Sloten (plaats in Noord-Holland)\", \"Sloterdijk (Amsterdam)\", \"Slotermeer (tuinstad)\", \"Slotervaart (tuinstad)\", \"Sluisbuurt\", \"Sneek (stad)\", \"Sociaal-Democratische Arbeiderspartij\", \"Sociaaldemocratie\", \"Sociale segregatie\", \"Sofia (stad)\", \"Sovjet-Unie\", \"Spaarndammerbuurt\", \"Spaarndammerdijk\", \"Spanjaarden\", \"Spanje\", \"Spieringhorn\", \"Spoorlijn Amsterdam - Haarlem\", \"Spoorwegstation\", \"Sporenburg (Amsterdam)\", \"Sportheldenbuurt (Amsterdam)\", \"Spui (Amsterdam)\", \"Spuistraat (Amsterdam)\", \"Staatsliedenbuurt (Amsterdam)\", \"Stad (hoofdbetekenis)\", \"Stadhuis van Amsterdam\", \"Stadion De Meer\", \"Stadionbuurt\", \"Stadsbrand van Amsterdam (1421)\", \"Stadsbrand van Amsterdam (1452)\", \"Stadsbrand van Amsterdam (1597)\", \"Stadsrechten\", \"Stadsregio Amsterdam\", \"Stadsschouwburg Amsterdam\", \"Stadsvernieuwing\", \"Staten-Generaal van het Koninkrijk der Nederlanden\", \"Station Amsterdam Amstel\", \"Station Amsterdam Bijlmer ArenA\", \"Station Amsterdam Centraal\", \"Station Amsterdam Holendrecht\", \"Station Amsterdam Lelylaan\", \"Station Amsterdam Muiderpoort\", \"Station Amsterdam RAI\", \"Station Amsterdam Science Park\", \"Station Amsterdam Sloterdijk\", \"Station Amsterdam Zuid\", \"Station Diemen\", \"Station Diemen Zuid\", \"Station Duivendrecht\", \"Station Weesp\", \"Stedelijk Museum Amsterdam\", \"Steigereiland\", \"Sticht Utrecht\", \"Stichtse Vecht\", \"Stille Omgang\", \"Stockholm (hoofdbetekenis)\", \"Stopera\", \"Strandeiland\", \"Studio Plantage\", \"Sugar Factory\", \"Supperclub\", \"Surinaamse onafhankelijkheid\", \"Suriname (hoofdbetekenis)\", \"Syri\\\\u00eb\", \"S\\\\u00e3o Paulo (stad)\", \"Tachtigjarige Oorlog\", \"Tallinn\", \"Talpa TV (bedrijf)\", \"Tanger\", \"Taxi (vervoer)\", \"Taxi Centrale Amsterdam\", \"Telegraafrellen\", \"Teleport\", \"The Bottom\", \"The Bulldog\", \"The Movies (Amsterdam)\", \"Theater (gebouw)\", \"Theater Tuschinski\", \"Tirana (stad)\", \"Toerisme\", \"Tokio\", \"Tolerantie (maatschappij)\", \"Toomler\", \"Touw\", \"Transavia (Nederland)\", \"Transvaalbuurt (Amsterdam)\", \"Trein\", \"Trompbuurt\", \"Trouw (krant)\", \"Tuindorp (wijk)\", \"Tuindorp Buiksloot\", \"Tuindorp Buiksloterham\", \"Tuindorp Nieuwendam\", \"Tuindorp Oostzaan\", \"Turkije\", \"Tuttifruttidorp\", \"Tweede Coentunnel\", \"Tweede Wereldoorlog\", \"T\\\\u00f3rshavn\", \"UNESCO\", \"Uilenburg (Amsterdam)\", \"Uitdam\", \"Uitermeer\", \"Uitgaan\", \"Uitgeest\", \"Uitgeverij\", \"Uithoorn\", \"Uitleg van Amsterdam in de 17e eeuw\", \"Uitmarkt\", \"Universiteit\", \"Universiteit van Amsterdam\", \"Universiteitskwartier (Amsterdam)\", \"Utrecht (provincie)\", \"Utrecht (stad)\", \"Utrechtsestraat (Amsterdam)\", \"VU medisch centrum\", \"Vaduz\", \"Valletta\", \"Van Baerlestraat\", \"Van Gogh Museum\", \"Van Lennepbuurt\", \"Van Tijenbuurt\", \"Van der Kunbuurt\", \"Van der Pekbuurt\", \"Vaticaanstad\", \"Veengebied\", \"Veenweidegebied\", \"Veerboot\", \"Velsen\", \"Veneti\\\\u00eb van het Noorden\", \"Venserpolder (Amsterdam)\", \"Verenigd Koninkrijk (hoofdbetekenis)\", \"Verenigde Staten (hoofdbetekenis)\", \"Verzekering\", \"ViacomCBS Networks International Benelux\", \"Vilnius\", \"Vivelavie\", \"Vlaardingen\", \"Vlag van Amsterdam\", \"Vlamingen\", \"Vlooienburg\", \"Vogelbuurt (Amsterdam)\", \"Vogeldorp\", \"Vogeltjeswei\", \"Volewijck\", \"Volksrepubliek China\", \"Vondelpark\", \"Vondelparkbuurt\", \"Vondelparkpaviljoen\", \"Vondelstraat\", \"Vorst (weer)\", \"Vossius Gymnasium\", \"Vrij Nederland\", \"Vrijdenkerij\", \"Vrije Geer\", \"Vrije Universiteit Amsterdam\", \"Vrijheid van drukpers\", \"Vrijheidslaan\", \"Vrijmarkt\", \"Vroedschap\", \"Waalseiland\", \"Wapen van Amsterdam\", \"Warmoesstraat (Amsterdam)\", \"Warschau (hoofdbetekenis)\", \"Watergraafsmeer\", \"Waterland (gemeente)\", \"Waterlandpleinbuurt\", \"Waterlooplein (Amsterdam)\", \"Waterwijk (Amsterdam)\", \"Weert (stad)\", \"Weesp\", \"Weesperbuurt\", \"Weespertrekvaartbuurt\", \"Weesperzijde (wijk)\", \"Wenen\", \"Werelderfgoedlijst\", \"Wereldmuseum Amsterdam\", \"Werkgelegenheid\", \"Werkverschaffing\", \"Westelijk Havengebied\", \"Westelijke Eilanden (Amsterdam)\", \"Westelijke Tuinsteden\", \"Westerdokseiland\", \"Westergasfabriek\", \"Westerpark (Amsterdam)\", \"Westerpark (stadsdeel)\", \"Westpoort (Amsterdam)\", \"Wetenschap\", \"Weteringschans\", \"Wezet\", \"Wietpas\", \"Wijdemeren\", \"Wikimedia Foundation\", \"Wilhelmina der Nederlanden\", \"Willem IV van Holland\", \"Willem Treub\", \"Willemspark (Amsterdam)\", \"Willemstad (Cura\\\\u00e7ao)\", \"Wim Polak\", \"Winford College\", \"Wittenburg (Amsterdam)\", \"Woonplaats in Nederland\", \"Wormerland\", \"Yamazato\", \"Zaandam (hoofdbetekenis)\", \"Zaanstad\", \"Zaanstreek-Waterland\", \"Zagreb\", \"Zandvoort\", \"Zapopan\", \"Zeeburg (hoofdbetekenis)\", \"Zeeburgereiland\", \"Zeedijk (Amsterdam)\", \"Zeeheldenbuurt (Amsterdam)\", \"Zeeklimaat\", \"Zeeland (provincie)\", \"Zesdaagse van Amsterdam\", \"Ziggo Dome\", \"Zuid-Afrika\", \"Zuid-Holland\", \"Zuid-Kennemerland\", \"Zuidas\", \"Zuidelijke Nederlanden\", \"Zuideramstel\", \"Zuiderzee (hoofdbetekenis)\", \"Zunderdorp\", \"Zwanenburg (Haarlemmermeer)\", \"Zwitserland\", \"Zwolle\", \"\\\\u0130zmit\", \"\\\\u015ei\\\\u015fli\", \"Wikipedia:Tijdsaanduiding\", \"Wikipedia:Wikiproject/Gesproken Wikipedia\", \"Sjabloon:Navigatie MRA\", \"Sjabloon:Navigatie gemeente Amsterdam\", \"Sjabloon:Navigatie hoofdsteden Europa\", \"Sjabloon:Navigatie hoofdsteden Nederland\", \"Sjabloon:Navigatie wijken Amsterdam\", \"Sjabloon:Taal-es\", \"Overleg sjabloon:Navigatie MRA\", \"Overleg sjabloon:Navigatie gemeente Amsterdam\", \"Overleg sjabloon:Navigatie hoofdsteden Europa\", \"Overleg sjabloon:Navigatie hoofdsteden Nederland\", \"Overleg sjabloon:Navigatie wijken Amsterdam\", \"Categorie:Weg in Amsterdam\", \"Portaal:Amsterdam\", \"Portaal:Nederland\"]}'"
      ]
     },
     "execution_count": 14,
     "metadata": {},
     "output_type": "execute_result"
    }
   ],
   "source": [
    "ams.to_json()"
   ]
  },
  {
   "cell_type": "code",
   "execution_count": 15,
   "metadata": {},
   "outputs": [
    {
     "data": {
      "text/plain": [
       "{'Amsterdam': Article(title='Amsterdam', exists=True, type=ArticleType.REGULAR, num_links=1122)}"
      ]
     },
     "execution_count": 15,
     "metadata": {},
     "output_type": "execute_result"
    }
   ],
   "source": [
    "{ams.title: ams}"
   ]
  },
  {
   "cell_type": "markdown",
   "metadata": {},
   "source": [
    "## Get random wikipedia page"
   ]
  },
  {
   "cell_type": "code",
   "execution_count": 16,
   "metadata": {},
   "outputs": [],
   "source": [
    "random_article_url = 'https://nl.wikipedia.org/wiki/Speciaal:Willekeurig'"
   ]
  },
  {
   "cell_type": "code",
   "execution_count": 17,
   "metadata": {},
   "outputs": [],
   "source": [
    "async def get_random_title(session, url) -> str | None:\n",
    "        async with session.get(url=url) as response:\n",
    "                if response.status != 200:\n",
    "                        return None\n",
    "                return str(response.url).split('/')[-1]\n",
    "\n",
    "async def fetch_random_titles(num_titles: int) -> list[str]:\n",
    "        random_article_url = 'https://nl.wikipedia.org/wiki/Speciaal:Willekeurig'\n",
    "\n",
    "        async with aiohttp.ClientSession() as session:\n",
    "                tasks = [get_random_title(session, random_article_url) for _ in range(num_titles)]\n",
    "                return await asyncio.gather(*tasks)"
   ]
  },
  {
   "cell_type": "code",
   "execution_count": 18,
   "metadata": {},
   "outputs": [
    {
     "name": "stdout",
     "output_type": "stream",
     "text": [
      "Ren%C3%A9_Radermacher_Schorer\n",
      "Berlandina_apscheronica\n",
      "Nothomiza_aureolaria\n",
      "Fissidentalium_elizabethae\n",
      "S%C3%A3o_Crist%C3%B3v%C3%A3o_de_Nogueira\n"
     ]
    }
   ],
   "source": [
    "# number of titles to fetch\n",
    "num_titles = 5\n",
    "\n",
    "random_titles = asyncio.run(fetch_random_titles(num_titles))\n",
    "for title in random_titles:\n",
    "    print(title)"
   ]
  },
  {
   "cell_type": "code",
   "execution_count": 19,
   "metadata": {},
   "outputs": [
    {
     "ename": "AttributeError",
     "evalue": "'str' object has no attribute 'url'",
     "output_type": "error",
     "traceback": [
      "\u001b[0;31m---------------------------------------------------------------------------\u001b[0m",
      "\u001b[0;31mAttributeError\u001b[0m                            Traceback (most recent call last)",
      "Cell \u001b[0;32mIn[19], line 3\u001b[0m\n\u001b[1;32m      1\u001b[0m r_resp \u001b[38;5;241m=\u001b[39m random_titles[\u001b[38;5;241m0\u001b[39m]\n\u001b[0;32m----> 3\u001b[0m \u001b[38;5;28mprint\u001b[39m(\u001b[43mr_resp\u001b[49m\u001b[38;5;241;43m.\u001b[39;49m\u001b[43murl\u001b[49m)\n",
      "\u001b[0;31mAttributeError\u001b[0m: 'str' object has no attribute 'url'"
     ]
    }
   ],
   "source": [
    "r_resp = random_titles[0]\n",
    "\n",
    "print(r_resp.url)"
   ]
  },
  {
   "cell_type": "markdown",
   "metadata": {},
   "source": [
    "## Batch management"
   ]
  },
  {
   "cell_type": "code",
   "execution_count": 20,
   "metadata": {},
   "outputs": [
    {
     "ename": "NameError",
     "evalue": "name 'os' is not defined",
     "output_type": "error",
     "traceback": [
      "\u001b[0;31m---------------------------------------------------------------------------\u001b[0m",
      "\u001b[0;31mNameError\u001b[0m                                 Traceback (most recent call last)",
      "Cell \u001b[0;32mIn[20], line 2\u001b[0m\n\u001b[1;32m      1\u001b[0m folder_path \u001b[38;5;241m=\u001b[39m \u001b[38;5;124m'\u001b[39m\u001b[38;5;124mwiki/data/staging/batch_1\u001b[39m\u001b[38;5;124m'\u001b[39m\n\u001b[0;32m----> 2\u001b[0m \u001b[43mos\u001b[49m\u001b[38;5;241m.\u001b[39mpath\u001b[38;5;241m.\u001b[39mabspath(os\u001b[38;5;241m.\u001b[39mpath\u001b[38;5;241m.\u001b[39mjoin(folder_path, \u001b[38;5;124m\"\u001b[39m\u001b[38;5;124m../..\u001b[39m\u001b[38;5;124m\"\u001b[39m))\n",
      "\u001b[0;31mNameError\u001b[0m: name 'os' is not defined"
     ]
    }
   ],
   "source": [
    "folder_path = 'wiki/data/staging/batch_1'\n",
    "os.path.abspath(os.path.join(folder_path, \"../..\"))"
   ]
  },
  {
   "cell_type": "code",
   "execution_count": 21,
   "metadata": {},
   "outputs": [],
   "source": [
    "import re\n",
    "import os\n",
    "from datetime import datetime\n",
    "import shutil\n",
    "import logging"
   ]
  },
  {
   "cell_type": "code",
   "execution_count": 32,
   "metadata": {},
   "outputs": [],
   "source": [
    "class DataCollector():\n",
    "\n",
    "    def __init__(self, language_code: str, url: str) -> None:\n",
    "        self.language_code = language_code\n",
    "        self.url = url\n",
    "\n",
    "class BatchFileManager():\n",
    "\n",
    "    # Class constants\n",
    "    MAX_LINES_RESULTS_FILE = 100_000\n",
    "\n",
    "    # Instance attributes\n",
    "    data_folder: str\n",
    "    batch_folder: str\n",
    "    previous_batch_folder: str | None\n",
    "    batch_number: int\n",
    "    number_of_results_files: int\n",
    "    path_active_file: str\n",
    "    number_of_lines_active_file: int\n",
    "\n",
    "    def __init__(self,\n",
    "                 previous_batch_folder: str | None = None,\n",
    "                 data_path: str | None = None,\n",
    "                 logger: logging.Logger | None = None\n",
    "                 ) -> None:\n",
    "\n",
    "        # Set up logger\n",
    "        self.logger = logger or self._setup_logger()\n",
    "        self.logger.info(\"BatchFileManager is initialising the current batch\")\n",
    "\n",
    "        if previous_batch_folder is not None:\n",
    "            self.logger.info(f\"Previous batch folder provided: {previous_batch_folder}\")\n",
    "            self.previous_batch_folder = previous_batch_folder\n",
    "            match_previous_batch_number = re.search(r'_batch_(\\d+)$', self.previous_batch_folder.split('/')[-1])\n",
    "            if match_previous_batch_number:\n",
    "                self.batch_number = int(match_previous_batch_number.group(1)) + 1\n",
    "                self.logger.info(f\"Batch number determined from previous batch folder: '{self.batch_number}'\")\n",
    "            else:\n",
    "                self.logger.error(\"Invalid previous batch folder name.\")\n",
    "                raise ValueError(\"Invalid previous batch folder name.\")\n",
    "\n",
    "            # Get the data folder path\n",
    "            self.data_folder = os.path.abspath(os.path.join(self.previous_batch_folder, \"../..\"))\n",
    "            self.logger.info(f\"Data folder path set to: '{self.data_folder}'\")\n",
    "        else:\n",
    "            if data_path is None:\n",
    "                data_path = self._find_or_create_data_folder()\n",
    "            self.data_folder = data_path if data_path.endswith('/data') else f\"{data_path}/data\"\n",
    "            self.logger.info(f\"Data folder path set to: '{self.data_folder}'\")\n",
    "            self.previous_batch_folder, previous_batch_number = self._get_recent_batch_history()\n",
    "            self.batch_number = previous_batch_number + 1 if previous_batch_number else 1\n",
    "            self.logger.info(f\"Current batch number set to: {self.batch_number}\")\n",
    "\n",
    "        # Create folder for the new batch\n",
    "        self.batch_folder = self._create_new_batch_folder()\n",
    "\n",
    "        # Set-up visited articles file\n",
    "        self.visited_articles_file = self._create_or_get_visited_articles_file()\n",
    "\n",
    "        # Initialise file for storing results\n",
    "        self.number_of_results_files = 0\n",
    "        self.path_active_file = self.create_new_results_file() # Initialises self.number_of_lines_active_file\n",
    "\n",
    "        self.logger.info(f\"BatchFileManager has finished initialising batch number {self.batch_number} at '{self.batch_folder}'\")\n",
    "        return None\n",
    "\n",
    "    def _setup_logger(self):\n",
    "        logger = logging.getLogger(__name__)\n",
    "        if not logger.handlers:  # Check if handlers already exist\n",
    "            handler = logging.StreamHandler()\n",
    "            formatter = logging.Formatter('%(asctime)s - %(name)s - %(levelname)s - %(message)s')\n",
    "            handler.setFormatter(formatter)\n",
    "            logger.addHandler(handler)\n",
    "            logger.setLevel(logging.INFO)\n",
    "        return logger\n",
    "\n",
    "    def write_line_to_active_file(self, line: str, file: str) -> None:\n",
    "        ...\n",
    "        # Maybe exclude this method from the class and make it a standalone function\n",
    "\n",
    "    def _create_or_get_visited_articles_file(self) -> str:\n",
    "        target_file = os.path.join(self.batch_folder, \"visited_articles.txt\")\n",
    "\n",
    "        if self.previous_batch_folder:\n",
    "            source_file = os.path.join(self.previous_batch_folder, \"visited_articles.txt\")\n",
    "            if os.path.exists(source_file):\n",
    "                shutil.copy(source_file, target_file)\n",
    "                self.logger.info(f\"Found visited articles file for previous batch and copied to current batch folder\")\n",
    "            else:\n",
    "                open(target_file, 'w').close()\n",
    "                self.logger.info(f\"No visited articles file found for previous batch, thus created a blank file in current batch folder\")\n",
    "        else:\n",
    "            open(target_file, 'w').close()\n",
    "            self.logger.info(f\"No previous batch available. Created a blank visited articles file in current batch folder\")\n",
    "\n",
    "        return target_file\n",
    "\n",
    "\n",
    "    def create_new_results_file(self) -> None:\n",
    "        self.number_of_results_files += 1\n",
    "\n",
    "        # Create a new results file\n",
    "        filename = f\"batch_{self.batch_number}_scraping_results_{self.number_of_results_files}\"\n",
    "        file_path = os.path.join(self.batch_folder, f'{filename}.jsonl')\n",
    "        open(file_path, 'w').close()\n",
    "\n",
    "        self.number_of_lines_active_file = 0\n",
    "        self.logger.info(f\"New results file created at: '{file_path}'\")\n",
    "\n",
    "        return file_path\n",
    "\n",
    "    def _find_or_create_data_folder(self) -> str:\n",
    "        \"\"\" Add docstring \"\"\"\n",
    "        root_path = BatchFileManager._find_project_root()\n",
    "        for dirpath, dirnames, _ in os.walk(root_path):\n",
    "            if 'data' in dirnames:\n",
    "                data_folder = os.path.join(dirpath, 'data')\n",
    "                self.logger.info(f\"Data folder found at: '{data_folder}'\")\n",
    "                return data_folder\n",
    "\n",
    "        # If no data folder is found, create one\n",
    "        data_folder = os.path.join(root_path, 'data')\n",
    "        os.makedirs(data_folder)\n",
    "        self.logger.info(f\"No data folder found, created one at: '{data_folder}'\")\n",
    "\n",
    "        return data_folder\n",
    "\n",
    "    def _get_recent_batch_history(self) -> tuple[str, str | None]:\n",
    "        \"\"\" Add docstring \"\"\"\n",
    "\n",
    "        # Find or create the \"staging\" subfolder in the \"data\" folder\n",
    "        staging_folder = os.path.join(self.data_folder, 'staging')\n",
    "        if not os.path.exists(staging_folder):\n",
    "            os.makedirs(staging_folder)\n",
    "\n",
    "        # Get the list of subfolders in the \"staging\" folder\n",
    "        subfolders = [f.name for f in os.scandir(staging_folder) if f.is_dir()]\n",
    "\n",
    "        # Find the batch folders with names like \"YYYYMMDD_batch_{batch number}\"\n",
    "        pattern = re.compile(r'^\\d{8}_batch_\\d+$')\n",
    "        batch_folders = [f for f in subfolders if pattern.match(f)]\n",
    "\n",
    "        # Determine the number of the next batch and the path of the previous batch\n",
    "        if batch_folders:\n",
    "            previous_batch_number = max([int(f.split('_batch_')[1]) for f in batch_folders])\n",
    "\n",
    "            previous_batch_folder_name = [f for f in batch_folders if int(f.split('_batch_')[1]) == previous_batch_number][0]\n",
    "            previous_batch_folder = os.path.join(staging_folder, previous_batch_folder_name)\n",
    "        else:\n",
    "            previous_batch_folder = None\n",
    "            previous_batch_number = None\n",
    "\n",
    "        return previous_batch_folder, previous_batch_number\n",
    "\n",
    "\n",
    "    def _create_new_batch_folder(self) -> str:\n",
    "        \"\"\" Add docstring \"\"\"\n",
    "        staging_folder = os.path.join(self.data_folder, 'staging')\n",
    "\n",
    "        # Create the new batch folder\n",
    "        new_batch_folder_name = f\"{datetime.now().strftime('%Y%m%d')}_batch_{self.batch_number}\"\n",
    "        new_batch_folder = os.path.join(staging_folder, new_batch_folder_name)\n",
    "        os.makedirs(new_batch_folder)\n",
    "        self.logger.info(f\"New batch folder created at: '{new_batch_folder}'\")\n",
    "\n",
    "        return new_batch_folder\n",
    "\n",
    "    @staticmethod\n",
    "    def _find_project_root(max_levels=4):\n",
    "        root_files = [\n",
    "            'LICENSE',\n",
    "            'README.md',\n",
    "            'requirements.txt',\n",
    "        ]\n",
    "        def scan_directory(directory):\n",
    "            for dirpath, _, filenames in os.walk(directory):\n",
    "                if any(file in filenames for file in root_files):\n",
    "                    return dirpath\n",
    "            return None\n",
    "\n",
    "        current_path = os.getcwd()\n",
    "        levels_checked = 0\n",
    "\n",
    "        while levels_checked < max_levels:\n",
    "            # Scan the current directory and all subdirectories\n",
    "            result = scan_directory(current_path)\n",
    "            if result:\n",
    "                return result\n",
    "\n",
    "            # Move up one level\n",
    "            current_path = os.path.dirname(current_path)\n",
    "            levels_checked += 1\n",
    "\n",
    "        return None"
   ]
  },
  {
   "cell_type": "code",
   "execution_count": 33,
   "metadata": {},
   "outputs": [
    {
     "name": "stderr",
     "output_type": "stream",
     "text": [
      "2024-09-11 22:46:32,008 - __main__ - INFO - BatchFileManager is initialising the current batch\n",
      "2024-09-11 22:46:32,010 - __main__ - INFO - Data folder found at: '/Users/cpdh/Documents/Python Projects/wikipedia_network/data'\n",
      "2024-09-11 22:46:32,010 - __main__ - INFO - Data folder path set to: '/Users/cpdh/Documents/Python Projects/wikipedia_network/data'\n",
      "2024-09-11 22:46:32,011 - __main__ - INFO - Current batch number set to: 4\n",
      "2024-09-11 22:46:32,012 - __main__ - INFO - New batch folder created at: '/Users/cpdh/Documents/Python Projects/wikipedia_network/data/staging/20240911_batch_4'\n",
      "2024-09-11 22:46:32,016 - __main__ - INFO - Found visited articles file for previous batch and copied to current batch folder\n",
      "2024-09-11 22:46:32,017 - __main__ - INFO - New results file created at: '/Users/cpdh/Documents/Python Projects/wikipedia_network/data/staging/20240911_batch_4/batch_4_scraping_results_1.jsonl'\n",
      "2024-09-11 22:46:32,018 - __main__ - INFO - BatchFileManager has finished initialising batch number 4 at '/Users/cpdh/Documents/Python Projects/wikipedia_network/data/staging/20240911_batch_4'\n"
     ]
    }
   ],
   "source": [
    "test_batch = BatchFileManager()"
   ]
  },
  {
   "cell_type": "code",
   "execution_count": 53,
   "metadata": {},
   "outputs": [],
   "source": [
    "import os\n",
    "from datetime import datetime\n",
    "from icecream import ic"
   ]
  },
  {
   "cell_type": "code",
   "execution_count": null,
   "metadata": {},
   "outputs": [],
   "source": [
    "import json\n",
    "\n",
    "def process_iterations(iterations, results_file_path, options_file_path):\n",
    "    # Open the files in append mode\n",
    "    with open(results_file_path, 'a') as results_file, open(options_file_path, 'a') as options_file:\n",
    "        for iteration_id, (result, option) in iterations:\n",
    "            # Write the result to the results file\n",
    "            results_file.write(json.dumps({iteration_id: result}) + '\\n')\n",
    "            # Write the option to the options file\n",
    "            options_file.write(option + '\\n')\n",
    "\n",
    "# Example usage\n",
    "iterations = [\n",
    "    ('iteration_1', ({'value': 42}, 'option_1')),\n",
    "    ('iteration_2', ({'value': 43}, 'option_2')),\n",
    "    # Add more iterations as needed\n",
    "]\n",
    "\n",
    "process_iterations(iterations, 'results.jsonl', 'checked_options.txt')\n"
   ]
  },
  {
   "cell_type": "code",
   "execution_count": null,
   "metadata": {},
   "outputs": [],
   "source": [
    "def parse_results(file_path):\n",
    "    results = {}\n",
    "    with open(file_path, 'r') as file:\n",
    "        for line in file:\n",
    "            result = json.loads(line.strip())\n",
    "            results.update(result)\n",
    "    return results\n",
    "\n",
    "# Example usage\n",
    "parsed_results = parse_results('results.jsonl')\n",
    "print(parsed_results)\n"
   ]
  },
  {
   "cell_type": "code",
   "execution_count": null,
   "metadata": {},
   "outputs": [],
   "source": [
    "def read_checked_options(file_path):\n",
    "    options = []\n",
    "    with open(file_path, 'r') as file:\n",
    "        for line in file:\n",
    "            options.append(line.strip())\n",
    "    return options\n",
    "\n",
    "# Example usage\n",
    "checked_options = read_checked_options('checked_options.txt')\n",
    "print(checked_options)"
   ]
  },
  {
   "cell_type": "code",
   "execution_count": null,
   "metadata": {},
   "outputs": [],
   "source": [
    "\"\"\"\n",
    "look for a folder called data\n",
    "staging,\n",
    "batch_1 etc\n",
    "\n",
    "\n",
    "\"\"\""
   ]
  },
  {
   "cell_type": "code",
   "execution_count": null,
   "metadata": {},
   "outputs": [],
   "source": [
    "import json\n",
    "import datetime\n",
    "\n",
    "def log_run_metadata(metadata_file_path, run_id, parameters, status):\n",
    "    # Create metadata dictionary\n",
    "    metadata = {\n",
    "        'run_id': run_id,\n",
    "        'start_time': datetime.datetime.now().isoformat(),\n",
    "        'parameters': parameters,\n",
    "        'status': status\n",
    "    }\n",
    "\n",
    "    # Append metadata to the file\n",
    "    with open(metadata_file_path, 'a') as file:\n",
    "        file.write(json.dumps(metadata) + '\\n')\n",
    "\n",
    "# Example usage\n",
    "run_id = 'run_1'\n",
    "parameters = {'param1': 'value1', 'param2': 'value2'}\n",
    "status = 'completed'\n",
    "\n",
    "log_run_metadata('run_metadata.jsonl', run_id, parameters, status)\n",
    "\n"
   ]
  },
  {
   "cell_type": "code",
   "execution_count": null,
   "metadata": {},
   "outputs": [],
   "source": [
    "def parse_metadata(file_path):\n",
    "    metadata_list = []\n",
    "    with open(file_path, 'r') as file:\n",
    "        for line in file:\n",
    "            metadata = json.loads(line.strip())\n",
    "            metadata_list.append(metadata)\n",
    "    return metadata_list\n",
    "\n",
    "# Example usage\n",
    "metadata = parse_metadata('run_metadata.jsonl')\n",
    "print(metadata)"
   ]
  },
  {
   "cell_type": "code",
   "execution_count": null,
   "metadata": {},
   "outputs": [],
   "source": []
  },
  {
   "cell_type": "markdown",
   "metadata": {},
   "source": [
    "# Pickling"
   ]
  },
  {
   "cell_type": "code",
   "execution_count": null,
   "metadata": {},
   "outputs": [],
   "source": [
    "import pickle\n",
    "\n",
    "# Create an instance of your dataclass\n",
    "metadata = Metadata(url='http://example.com', status='success', data={'key1': 'value1'})\n",
    "\n",
    "# Save to a file\n",
    "with open('metadata.pkl', 'wb') as file:\n",
    "    pickle.dump(metadata, file)"
   ]
  },
  {
   "cell_type": "code",
   "execution_count": null,
   "metadata": {},
   "outputs": [],
   "source": [
    "import pickle\n",
    "\n",
    "# Load from a file\n",
    "with open('metadata.pkl', 'rb') as file:\n",
    "    metadata = pickle.load(file)"
   ]
  },
  {
   "cell_type": "code",
   "execution_count": null,
   "metadata": {},
   "outputs": [],
   "source": []
  }
 ],
 "metadata": {
  "kernelspec": {
   "display_name": "wiki_dev",
   "language": "python",
   "name": "python3"
  },
  "language_info": {
   "codemirror_mode": {
    "name": "ipython",
    "version": 3
   },
   "file_extension": ".py",
   "mimetype": "text/x-python",
   "name": "python",
   "nbconvert_exporter": "python",
   "pygments_lexer": "ipython3",
   "version": "3.11.3"
  }
 },
 "nbformat": 4,
 "nbformat_minor": 2
}
