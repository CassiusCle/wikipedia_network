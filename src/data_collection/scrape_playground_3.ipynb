{
 "cells": [
  {
   "cell_type": "code",
   "execution_count": 1,
   "metadata": {},
   "outputs": [],
   "source": [
    "from batch_file_manager import BatchFileManager\n",
    "from article import Article"
   ]
  },
  {
   "cell_type": "code",
   "execution_count": 2,
   "metadata": {},
   "outputs": [
    {
     "name": "stderr",
     "output_type": "stream",
     "text": [
      "2024-09-12 22:57:10,348 - batch_file_manager - INFO - BatchFileManager is initialising the current batch\n",
      "2024-09-12 22:57:10,350 - batch_file_manager - INFO - No previous batch folder provided.\n",
      "2024-09-12 22:57:10,353 - batch_file_manager - INFO - Data folder found at: '/Users/cpdh/Documents/Python Projects/wikipedia_network/data'\n",
      "2024-09-12 22:57:10,354 - batch_file_manager - INFO - Data folder path set to: '/Users/cpdh/Documents/Python Projects/wikipedia_network/data'\n",
      "2024-09-12 22:57:10,355 - batch_file_manager - INFO - Previous batch folder found at: '/Users/cpdh/Documents/Python Projects/wikipedia_network/data/staging/20240912_batch_2'\n",
      "2024-09-12 22:57:10,355 - batch_file_manager - INFO - Current batch number set to: 3\n",
      "2024-09-12 22:57:10,355 - batch_file_manager - INFO - New batch folder created at: '/Users/cpdh/Documents/Python Projects/wikipedia_network/data/staging/20240912_batch_3'\n",
      "2024-09-12 22:57:10,356 - batch_file_manager - INFO - Found visited articles file for previous batch and copied to current batch folder\n",
      "2024-09-12 22:57:10,357 - batch_file_manager - INFO - Chunk {self.chunk_number} of batch {self.batch_number} initialised\n",
      "2024-09-12 22:57:10,357 - batch_file_manager - INFO - Metadata file created at: '/Users/cpdh/Documents/Python Projects/wikipedia_network/data/staging/20240912_batch_3/metadata.jsonl'\n",
      "2024-09-12 22:57:10,357 - batch_file_manager - INFO - BatchFileManager has finished initialising batch number 3 at '/Users/cpdh/Documents/Python Projects/wikipedia_network/data/staging/20240912_batch_3'\n"
     ]
    }
   ],
   "source": [
    "test = BatchFileManager()"
   ]
  },
  {
   "cell_type": "code",
   "execution_count": 4,
   "metadata": {},
   "outputs": [
    {
     "name": "stderr",
     "output_type": "stream",
     "text": [
      "2024-09-12 19:15:26,187 - batch_file_manager - INFO - New results file created at: '/Users/cpdh/Documents/Python Projects/wikipedia_network/data/staging/20240912_batch_1/batch_1_scraping_results_2.jsonl'\n"
     ]
    },
    {
     "data": {
      "text/plain": [
       "'/Users/cpdh/Documents/Python Projects/wikipedia_network/data/staging/20240912_batch_1/batch_1_scraping_results_2.jsonl'"
      ]
     },
     "execution_count": 4,
     "metadata": {},
     "output_type": "execute_result"
    }
   ],
   "source": [
    "test.create_new_results_file()"
   ]
  },
  {
   "cell_type": "code",
   "execution_count": null,
   "metadata": {},
   "outputs": [],
   "source": [
    "test"
   ]
  }
 ],
 "metadata": {
  "kernelspec": {
   "display_name": "wiki_dev",
   "language": "python",
   "name": "python3"
  },
  "language_info": {
   "codemirror_mode": {
    "name": "ipython",
    "version": 3
   },
   "file_extension": ".py",
   "mimetype": "text/x-python",
   "name": "python",
   "nbconvert_exporter": "python",
   "pygments_lexer": "ipython3",
   "version": "3.11.3"
  }
 },
 "nbformat": 4,
 "nbformat_minor": 2
}
